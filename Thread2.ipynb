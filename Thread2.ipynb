{
  "nbformat": 4,
  "nbformat_minor": 0,
  "metadata": {
    "colab": {
      "name": "Untitled7.ipynb",
      "provenance": [],
      "authorship_tag": "ABX9TyOQoWMZtHDeTrsk1n9DTGxq",
      "include_colab_link": true
    },
    "kernelspec": {
      "name": "python3",
      "display_name": "Python 3"
    }
  },
  "cells": [
    {
      "cell_type": "markdown",
      "metadata": {
        "id": "view-in-github",
        "colab_type": "text"
      },
      "source": [
        "<a href=\"https://colab.research.google.com/github/ammarshaalan/Threads/blob/main/Thread2.ipynb\" target=\"_parent\"><img src=\"https://colab.research.google.com/assets/colab-badge.svg\" alt=\"Open In Colab\"/></a>"
      ]
    },
    {
      "cell_type": "markdown",
      "metadata": {
        "id": "G4WinCcwq8o4"
      },
      "source": [
        "Without Threds\r\n",
        "##  Nour Abdelfattah Ibrahim Elbehedy\r\n",
        "## 319190347\r\n"
      ]
    },
    {
      "cell_type": "code",
      "metadata": {
        "colab": {
          "base_uri": "https://localhost:8080/"
        },
        "id": "1-rthS0KllvB",
        "outputId": "1b75e269-882f-43f2-bfb5-b11839cb1c13"
      },
      "source": [
        "import time\r\n",
        "\r\n",
        "start_time = time.time()\r\n",
        "\r\n",
        "total = []\r\n",
        "\r\n",
        "\r\n",
        "def sleeper(seconds):\r\n",
        "    time.sleep(seconds)\r\n",
        "    total.append(seconds)\r\n",
        "\r\n",
        "\r\n",
        "for s in (12, 2, 3):\r\n",
        "    sleeper(s)\r\n",
        "\r\n",
        "end_time = time.time()\r\n",
        "\r\n",
        "total_time = end_time - start_time\r\n",
        "\r\n",
        "print(\"Total time: {:.3} seconds. Sum: {}\".format(total_time, sum(total)))\r\n"
      ],
      "execution_count": 10,
      "outputs": [
        {
          "output_type": "stream",
          "text": [
            "Total time: 17.0 seconds. Sum: 17\n"
          ],
          "name": "stdout"
        }
      ]
    },
    {
      "cell_type": "markdown",
      "metadata": {
        "id": "-Bm2HUF4rRJn"
      },
      "source": [
        "With threds\r\n",
        "##  Nour Abdelfattah Ibrahim Elbehedy\r\n",
        "## 319190347\r\n"
      ]
    },
    {
      "cell_type": "code",
      "metadata": {
        "colab": {
          "base_uri": "https://localhost:8080/"
        },
        "id": "DBpc39mVlIFU",
        "outputId": "2e640658-49c1-4e94-e404-d1613795ec63"
      },
      "source": [
        "import time\r\n",
        "from queue import Queue\r\n",
        "import threading\r\n",
        "\r\n",
        "start_time = time.time()\r\n",
        "\r\n",
        "queue = Queue()\r\n",
        "\r\n",
        "\r\n",
        "def sleeper(seconds):\r\n",
        "    time.sleep(seconds)\r\n",
        "    queue.put(seconds)\r\n",
        "\r\n",
        "\r\n",
        "threads = []\r\n",
        "for s in (12, 2, 3):\r\n",
        "    t = threading.Thread(target=sleeper, args=(s,))\r\n",
        "    threads.append(t)\r\n",
        "    t.start()\r\n",
        "\r\n",
        "for one_thread in threads:\r\n",
        "    one_thread.join()\r\n",
        "\r\n",
        "total = 0\r\n",
        "while not queue.empty():\r\n",
        "    total = total + queue.get()\r\n",
        "\r\n",
        "end_time = time.time()\r\n",
        "\r\n",
        "total_time = end_time - start_time\r\n",
        "print(\"Total time: {:.3} seconds. Sum: {}\".format(total_time, total))\r\n"
      ],
      "execution_count": 13,
      "outputs": [
        {
          "output_type": "stream",
          "text": [
            "Total time: 12.0 seconds. Sum: 17\n"
          ],
          "name": "stdout"
        }
      ]
    }
  ]
}